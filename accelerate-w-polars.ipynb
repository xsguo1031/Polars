{
 "cells": [
  {
   "cell_type": "markdown",
   "metadata": {},
   "source": [
    "# Polars Workshop\n",
    "\n",
    "PyCon 2025\n",
    "\n",
    "Matt Harrison"
   ]
  },
  {
   "cell_type": "code",
   "execution_count": null,
   "metadata": {},
   "outputs": [],
   "source": [
    "import polars as pl \n",
    "pl.__version__"
   ]
  },
  {
   "cell_type": "markdown",
   "metadata": {},
   "source": [
    "## Getting Data\n",
    "\n",
    "If you threaten to delete your Strava account, they will let you download all your data [^1]\n",
    "\n",
    "[^1]: https://support.strava.com/hc/en-us/articles/216918437-Exporting-your-Data-and-Bulk-Export"
   ]
  },
  {
   "cell_type": "code",
   "execution_count": null,
   "metadata": {},
   "outputs": [],
   "source": [
    "import polars as pl\n",
    "import gpxpy\n",
    "import numpy as np\n",
    "\n",
    "def gpx_to_polars(fname):\n",
    "    # Parse the GPX file\n",
    "    data = gpxpy.parse(open(fname))\n",
    "    prev = None\n",
    "    data_dict = {'course': [],\n",
    "                 'distance_2d': [],\n",
    "                 'latitude': [],\n",
    "                 'longitude': [],\n",
    "                 'time': [],\n",
    "                 'elevation': [],\n",
    "                 'speed_between': [],\n",
    "                }\n",
    "    name = None\n",
    "    type_ = None\n",
    "    filename = fname\n",
    "    \n",
    "    # Iterate through tracks, segments, and points\n",
    "    for track in data.tracks:\n",
    "        if name is None:\n",
    "            name = track.name\n",
    "            type_ = track.type\n",
    "\n",
    "        for seg in track.segments:\n",
    "            for i, pt in enumerate(seg.points):\n",
    "                if prev is None:\n",
    "                    prev = pt\n",
    "                for key in data_dict:\n",
    "                    attr = getattr(pt, key)\n",
    "                    if callable(attr):\n",
    "                        data_dict[key].append(attr(prev))\n",
    "                    else:\n",
    "                        data_dict[key].append(attr)\n",
    "                prev = pt\n",
    "    data_dict['name'] = [name] * len(data_dict['course'])\n",
    "    data_dict['type'] = [type_] * len(data_dict['course'])\n",
    "    data_dict['filename'] = [filename] * len(data_dict['course'])\n",
    "    # Create a Polars DataFrame\n",
    "    df = (pl.DataFrame(data_dict)\n",
    "    )\n",
    "    return df\n",
    "    (df\n",
    "        #.with_columns([pl.col(\"time\").str.strptime(pl.Datetime, \"%Y-%m-%dT%H:%M:%SZ\", strict=False)])\n",
    "        .with_columns(\n",
    "            travelled= pl.col(\"distance_2d\").cum_sum(),\n",
    "            elapsed=(pl.col(\"time\") - pl.col(\"time\").min()).dt.total_seconds()\n",
    "        )\n",
    "        .with_columns(        \n",
    "            avg_velocity=pl.col(\"travelled\") / pl.col(\"elapsed\"),\n",
    "            rolling_travelled=pl.col(\"travelled\").rolling_mean(window_size=5),\n",
    "            rolling_elapsed=pl.col(\"elapsed\").rolling_mean(window_size=5),\n",
    "        )\n",
    "        .with_columns(\n",
    "            rolling_velocity=pl.col(\"rolling_travelled\") / pl.col(\"rolling_elapsed\"),\n",
    "            rolling_between=pl.col(\"speed_between\").rolling_mean(window_size=5),\n",
    "        )\n",
    "    )\n",
    "\n",
    "    return df\n",
    "\n",
    "# Example usage:\n",
    "#crash_gpx = gpxpy.parse(open('/Users/matt/Downloads/Face_plant.gpx'))\n",
    "\n"
   ]
  },
  {
   "cell_type": "markdown",
   "metadata": {},
   "source": [
    "\n",
    "## Load Data"
   ]
  },
  {
   "cell_type": "code",
   "execution_count": null,
   "metadata": {
    "scrolled": true
   },
   "outputs": [],
   "source": [
    "import polars as pl\n",
    "import polars.selectors as cs\n",
    "#raw = pl.read_parquet('data/activities.parquet')\n",
    "raw = pl.read_parquet('data/bikeski.parquet')\n",
    "print(raw)"
   ]
  },
  {
   "cell_type": "code",
   "execution_count": null,
   "metadata": {},
   "outputs": [],
   "source": []
  },
  {
   "cell_type": "markdown",
   "metadata": {},
   "source": [
    "### Exercise\n",
    "\n",
    "- Load the data above.\n",
    "- Inspect the `.shape` attribute of the data"
   ]
  },
  {
   "cell_type": "code",
   "execution_count": null,
   "metadata": {},
   "outputs": [],
   "source": []
  },
  {
   "cell_type": "markdown",
   "metadata": {},
   "source": [
    "## Types"
   ]
  },
  {
   "cell_type": "code",
   "execution_count": null,
   "metadata": {},
   "outputs": [],
   "source": [
    "print(raw.columns)"
   ]
  },
  {
   "cell_type": "code",
   "execution_count": null,
   "metadata": {},
   "outputs": [],
   "source": [
    "cols = ['course', 'distance_2d', 'latitude', 'longitude', 'time', 'elevation',\n",
    "         'speed_between', 'name', 'type', 'filename']\n",
    "raw[cols].dtypes"
   ]
  },
  {
   "cell_type": "code",
   "execution_count": null,
   "metadata": {},
   "outputs": [],
   "source": [
    "# 345 MB\n",
    "raw[cols].estimated_size()"
   ]
  },
  {
   "cell_type": "code",
   "execution_count": null,
   "metadata": {},
   "outputs": [],
   "source": []
  },
  {
   "cell_type": "markdown",
   "metadata": {},
   "source": [
    "## Ints"
   ]
  },
  {
   "cell_type": "code",
   "execution_count": null,
   "metadata": {
    "scrolled": true
   },
   "outputs": [],
   "source": [
    "# add a id from the filename\n",
    "print(raw\n",
    " .select(cols)\n",
    " .with_columns(id=pl.col('filename')\n",
    "               .str.split('/')\n",
    "               .list.get(-1)\n",
    "               .str.replace('.gpx', '')\n",
    "               .cast(pl.Int64)\n",
    "               )\n",
    ")"
   ]
  },
  {
   "cell_type": "code",
   "execution_count": null,
   "metadata": {
    "scrolled": true
   },
   "outputs": [],
   "source": [
    "# add an elapsed column to each activity\n",
    "# add a id from the filename\n",
    "\n",
    "calc_id = (pl.col('filename')\n",
    "              .str.split('/')\n",
    "              .list.get(-1)\n",
    "              .str.replace('.gpx', '')\n",
    "              .cast(pl.Int64)\n",
    "             )\n",
    "\n",
    "(raw\n",
    " .select(cols)\n",
    " .with_columns(id=calc_id)\n",
    ")"
   ]
  },
  {
   "cell_type": "code",
   "execution_count": null,
   "metadata": {},
   "outputs": [],
   "source": [
    "# add an elapsed column to each activity\n",
    "# add a id from the filename\n",
    "\n",
    "calc_id = (pl.col('filename')\n",
    "              .str.split('/')\n",
    "              .list.get(-1)\n",
    "              .str.replace('.gpx', '')\n",
    "              .cast(pl.Int64)\n",
    "             )\n",
    "calc_elapsed = (\n",
    "    (pl.col(\"time\") - pl.col(\"time\").min())\n",
    "    .dt.total_seconds()\n",
    "    .over(pl.col('id'))\n",
    ")\n",
    "\n",
    "(raw\n",
    " .select(cols)\n",
    " .with_columns(id=calc_id)\n",
    " # needs to be in its own with_columns because we reference id\n",
    " .with_columns(elapsed=calc_elapsed)\n",
    ")"
   ]
  },
  {
   "cell_type": "code",
   "execution_count": null,
   "metadata": {
    "scrolled": true
   },
   "outputs": [],
   "source": [
    "# cast ints to int16\n",
    "calc_id = (pl.col('filename')\n",
    "              .str.split('/')\n",
    "              .list.get(-1)\n",
    "              .str.replace('.gpx', '')\n",
    "              .cast(pl.Int64)\n",
    "             )\n",
    "calc_elapsed = (\n",
    "    (pl.col(\"time\") - pl.col(\"time\").min())\n",
    "    .dt.total_seconds()\n",
    "    .over(pl.col('id'))\n",
    ")\n",
    "\n",
    "(raw\n",
    " .select(cols)\n",
    " .with_columns(id=calc_id)\n",
    " # needs to be in its own with_columns because we reference id\n",
    " .with_columns(elapsed=calc_elapsed.cast(pl.Int16))\n",
    ")"
   ]
  },
  {
   "cell_type": "code",
   "execution_count": null,
   "metadata": {},
   "outputs": [],
   "source": [
    "# describe\n",
    "\n",
    "calc_id = (pl.col('filename')\n",
    "              .str.split('/')\n",
    "              .list.get(-1)\n",
    "              .str.replace('.gpx', '')\n",
    "              .cast(pl.Int64)\n",
    "             )\n",
    "calc_elapsed = (\n",
    "    (pl.col(\"time\") - pl.col(\"time\").min())\n",
    "    .dt.total_seconds()\n",
    "    .over(pl.col('id'))\n",
    ")\n",
    "\n",
    "(raw\n",
    " .select(cols)\n",
    " .with_columns(id=calc_id)\n",
    " # needs to be in its own with_columns because we reference id\n",
    " .with_columns(elapsed=calc_elapsed)\n",
    " .select(cs.integer())\n",
    " .describe()\n",
    ")"
   ]
  },
  {
   "cell_type": "code",
   "execution_count": null,
   "metadata": {},
   "outputs": [],
   "source": [
    "import numpy as np\n",
    "np.iinfo(np.int16)"
   ]
  },
  {
   "cell_type": "code",
   "execution_count": null,
   "metadata": {},
   "outputs": [],
   "source": [
    "import numpy as np\n",
    "np.iinfo(np.int32)"
   ]
  },
  {
   "cell_type": "code",
   "execution_count": null,
   "metadata": {
    "scrolled": true
   },
   "outputs": [],
   "source": [
    "# cast ints to int32\n",
    "\n",
    "calc_id = (pl.col('filename')\n",
    "              .str.split('/')\n",
    "              .list.get(-1)\n",
    "              .str.replace('.gpx', '')\n",
    "              .cast(pl.Int64)\n",
    "             )\n",
    "calc_elapsed = (\n",
    "    (pl.col(\"time\") - pl.col(\"time\").min())\n",
    "    .dt.total_seconds()\n",
    "    .over(pl.col('id'))\n",
    ")\n",
    "\n",
    "(raw\n",
    " .select(cols)\n",
    " .with_columns(id=calc_id)\n",
    " # needs to be in its own with_columns because we reference id\n",
    " .with_columns(elapsed=calc_elapsed.cast(pl.Int32))\n",
    "\n",
    ")"
   ]
  },
  {
   "cell_type": "code",
   "execution_count": null,
   "metadata": {},
   "outputs": [],
   "source": []
  },
  {
   "cell_type": "markdown",
   "metadata": {},
   "source": [
    "### Execise: Memory Ints\n",
    "\n",
    "- Determine how much memory is used when casting *elapsed* to an Int32"
   ]
  },
  {
   "cell_type": "code",
   "execution_count": null,
   "metadata": {},
   "outputs": [],
   "source": []
  },
  {
   "cell_type": "markdown",
   "metadata": {},
   "source": [
    "## Floats\n"
   ]
  },
  {
   "cell_type": "code",
   "execution_count": null,
   "metadata": {},
   "outputs": [],
   "source": [
    "calc_id = (pl.col('filename')\n",
    "              .str.split('/')\n",
    "              .list.get(-1)\n",
    "              .str.replace('.gpx', '')\n",
    "              .cast(pl.Int64)\n",
    "             )\n",
    "calc_elapsed = (\n",
    "    (pl.col(\"time\") - pl.col(\"time\").min())\n",
    "    .dt.total_seconds()\n",
    "    .over(pl.col('id'))\n",
    ")\n",
    "\n",
    "(raw\n",
    " .select(cols)\n",
    " .with_columns(id=calc_id)\n",
    " # needs to be in its own with_columns because we reference id\n",
    " .with_columns(elapsed=calc_elapsed.cast(pl.Int32))\n",
    " .select(cs.float())\n",
    ")"
   ]
  },
  {
   "cell_type": "code",
   "execution_count": null,
   "metadata": {},
   "outputs": [],
   "source": [
    "# cast\n",
    "calc_id = (pl.col('filename')\n",
    "              .str.split('/')\n",
    "              .list.get(-1)\n",
    "              .str.replace('.gpx', '')\n",
    "              .cast(pl.Int64)\n",
    "             )\n",
    "calc_elapsed = (\n",
    "    (pl.col(\"time\") - pl.col(\"time\").min())\n",
    "    .dt.total_seconds()\n",
    "    .over(pl.col('id'))\n",
    ")\n",
    "\n",
    "(raw\n",
    " .select(cols)\n",
    " .with_columns(id=calc_id)\n",
    " # needs to be in its own with_columns because we reference id\n",
    " .with_columns(elapsed=calc_elapsed.cast(pl.Int32))\n",
    " .select(cs.float())\n",
    " .columns\n",
    ")"
   ]
  },
  {
   "cell_type": "code",
   "execution_count": null,
   "metadata": {},
   "outputs": [],
   "source": []
  },
  {
   "cell_type": "markdown",
   "metadata": {},
   "source": [
    "### Exercise:\n",
    "\n",
    "- How much memory is used if we cast the float columns to Float32?"
   ]
  },
  {
   "cell_type": "code",
   "execution_count": null,
   "metadata": {},
   "outputs": [],
   "source": []
  },
  {
   "cell_type": "code",
   "execution_count": null,
   "metadata": {},
   "outputs": [],
   "source": []
  },
  {
   "cell_type": "markdown",
   "metadata": {},
   "source": [
    "## Strings"
   ]
  },
  {
   "cell_type": "code",
   "execution_count": null,
   "metadata": {},
   "outputs": [],
   "source": [
    "\n",
    "calc_id = (pl.col('filename')\n",
    "              .str.split('/')\n",
    "              .list.get(-1)\n",
    "              .str.replace('.gpx', '')\n",
    "              .cast(pl.Int64)\n",
    "             )\n",
    "calc_elapsed = (\n",
    "    (pl.col(\"time\") - pl.col(\"time\").min())\n",
    "    .dt.total_seconds()\n",
    "    .over(pl.col('id'))\n",
    ")\n",
    "\n",
    "float_cols = ['distance_2d', 'latitude', 'longitude', 'elevation', 'speed_between']\n",
    "\n",
    "(raw\n",
    " .select(cols)\n",
    " .with_columns(id=calc_id)\n",
    " # needs to be in its own with_columns because we reference id\n",
    " .with_columns(elapsed=calc_elapsed.cast(pl.Int32))\n",
    " .with_columns(pl.col(float_cols).cast(pl.Float32))\n",
    " .select(cs.string())\n",
    ")"
   ]
  },
  {
   "cell_type": "code",
   "execution_count": null,
   "metadata": {},
   "outputs": [],
   "source": [
    "pl.col('').str"
   ]
  },
  {
   "cell_type": "code",
   "execution_count": null,
   "metadata": {},
   "outputs": [],
   "source": [
    "dir(pl.col('').str)"
   ]
  },
  {
   "cell_type": "code",
   "execution_count": null,
   "metadata": {},
   "outputs": [],
   "source": [
    "# cast to categorical removes 50% of the size\n",
    "calc_id = (pl.col('filename')\n",
    "              .str.split('/')\n",
    "              .list.get(-1)\n",
    "              .str.replace('.gpx', '')\n",
    "              .cast(pl.Int64)\n",
    "             )\n",
    "calc_elapsed = (\n",
    "    (pl.col(\"time\") - pl.col(\"time\").min())\n",
    "    .dt.total_seconds()\n",
    "    .over(pl.col('id'))\n",
    ")\n",
    "\n",
    "float_cols = ['distance_2d', 'latitude', 'longitude', 'elevation', 'speed_between']\n",
    "\n",
    "(raw\n",
    " .select(cols)\n",
    " .with_columns(id=calc_id)\n",
    " # needs to be in its own with_columns because we reference id\n",
    " .with_columns(elapsed=calc_elapsed.cast(pl.Int32))\n",
    " .with_columns(pl.col(float_cols).cast(pl.Float32))\n",
    " .with_columns(cs.string().cast(pl.Categorical))\n",
    " .estimated_size()\n",
    ")"
   ]
  },
  {
   "cell_type": "code",
   "execution_count": null,
   "metadata": {},
   "outputs": [],
   "source": [
    "# cast to categorical removes 50% of the size\n",
    "calc_id = (pl.col('filename')\n",
    "              .str.split('/')\n",
    "              .list.get(-1)\n",
    "              .str.replace('.gpx', '')\n",
    "              .cast(pl.Int64)\n",
    "             )\n",
    "calc_elapsed = (\n",
    "    (pl.col(\"time\") - pl.col(\"time\").min())\n",
    "    .dt.total_seconds()\n",
    "    .over(pl.col('id'))\n",
    ")\n",
    "\n",
    "float_cols = ['distance_2d', 'latitude', 'longitude', 'elevation', 'speed_between']\n",
    "\n",
    "(raw\n",
    " .select(cols)\n",
    " # add elapsed time\n",
    " .with_columns(id=calc_id)\n",
    " # needs to be in its own with_columns because we reference id\n",
    " .with_columns(elapsed=calc_elapsed.cast(pl.Int32))\n",
    " .with_columns(pl.col(float_cols).cast(pl.Float32))\n",
    " #.with_columns(cs.string().cast(pl.Categorical))\n",
    " .select(cs.string())\n",
    " .columns\n",
    ")"
   ]
  },
  {
   "cell_type": "code",
   "execution_count": null,
   "metadata": {
    "scrolled": true
   },
   "outputs": [],
   "source": [
    "# cast to categorical removes 50% of the size\n",
    "calc_id = (pl.col('filename')\n",
    "              .str.split('/')\n",
    "              .list.get(-1)\n",
    "              .str.replace('.gpx', '')\n",
    "              .cast(pl.Int64)\n",
    "             )\n",
    "calc_elapsed = (\n",
    "    (pl.col(\"time\") - pl.col(\"time\").min())\n",
    "    .dt.total_seconds()\n",
    "    .over(pl.col('id'))\n",
    ")\n",
    "\n",
    "float_cols = ['distance_2d', 'latitude', 'longitude', 'elevation', 'speed_between']\n",
    "cat_cols = ['name', 'type', 'filename']\n",
    "\n",
    "(raw\n",
    " .select(cols)\n",
    " .with_columns(id=calc_id)\n",
    " # needs to be in its own with_columns because we reference id\n",
    " .with_columns(\n",
    "    pl.col(float_cols).cast(pl.Float32),\n",
    "    pl.col(cat_cols).cast(pl.Categorical),\n",
    "    elapsed=calc_elapsed.cast(pl.Int32),\n",
    " )\n",
    ")"
   ]
  },
  {
   "cell_type": "code",
   "execution_count": null,
   "metadata": {},
   "outputs": [],
   "source": [
    "# explore categorical capabilities\n",
    "pl.col('cat').cat"
   ]
  },
  {
   "cell_type": "code",
   "execution_count": null,
   "metadata": {},
   "outputs": [],
   "source": [
    "dir(pl.col('cat').cat)"
   ]
  },
  {
   "cell_type": "code",
   "execution_count": null,
   "metadata": {},
   "outputs": [],
   "source": []
  },
  {
   "cell_type": "markdown",
   "metadata": {},
   "source": [
    "### Exercise: Strings\n",
    "\n",
    "- Write an expression to capitalize the *name* column\n",
    "- Write an expression to pull off just the filename portion of the *filename* column\n",
    "- Write an expression to make a string column, *act_id*, that is the IDSHORT_NAMESHORT where\n",
    " `IDSHORT` is the first 4 characters of the ID and `NAMESHORT` is the firt 4 characters of the name\n",
    "- Update the *act_id* expression to convert it from a string to a category."
   ]
  },
  {
   "cell_type": "code",
   "execution_count": null,
   "metadata": {},
   "outputs": [],
   "source": []
  },
  {
   "cell_type": "markdown",
   "metadata": {},
   "source": [
    "## Dates\n",
    "\n"
   ]
  },
  {
   "cell_type": "code",
   "execution_count": null,
   "metadata": {},
   "outputs": [],
   "source": [
    "# convert date to local time\n",
    "calc_id = (pl.col('filename')\n",
    "              .str.split('/')\n",
    "              .list.get(-1)\n",
    "              .str.replace('.gpx', '')\n",
    "              .cast(pl.Int64)\n",
    "             )\n",
    "calc_elapsed = (\n",
    "    (pl.col(\"time\") - pl.col(\"time\").min())\n",
    "    .dt.total_seconds()\n",
    "    .over(pl.col('id'))\n",
    ")\n",
    "\n",
    "float_cols = ['distance_2d', 'latitude', 'longitude', 'elevation', 'speed_between']\n",
    "cat_cols = ['name', 'type', 'filename']\n",
    "\n",
    "(raw\n",
    " .select(cols)\n",
    " .with_columns(id=calc_id)\n",
    " # needs to be in its own with_columns because we reference id\n",
    " .with_columns(\n",
    "    pl.col(float_cols).cast(pl.Float32),\n",
    "    pl.col(cat_cols).cast(pl.Categorical),\n",
    "    elapsed=calc_elapsed.cast(pl.Int32),\n",
    "    time=pl.col('time').dt.convert_time_zone('America/Denver')\n",
    " )\n",
    ")"
   ]
  },
  {
   "cell_type": "code",
   "execution_count": null,
   "metadata": {},
   "outputs": [],
   "source": [
    "# calculate period (a time delta)\n",
    "# vs elapsed which is numeric seconds\n",
    "calc_id = (pl.col('filename')\n",
    "              .str.split('/')\n",
    "              .list.get(-1)\n",
    "              .str.replace('.gpx', '')\n",
    "              .cast(pl.Int64)\n",
    "             )\n",
    "calc_elapsed = (\n",
    "    (pl.col(\"time\") - pl.col(\"time\").min())\n",
    "    .dt.total_seconds()\n",
    "    .over(pl.col('id'))\n",
    ")\n",
    "\n",
    "float_cols = ['distance_2d', 'latitude', 'longitude', 'elevation', 'speed_between']\n",
    "cat_cols = ['name', 'type', 'filename']\n",
    "\n",
    "(raw\n",
    " .select(cols)\n",
    " .with_columns(id=calc_id)\n",
    " # needs to be in its own with_columns because we reference id\n",
    " .with_columns(\n",
    "    pl.col(float_cols).cast(pl.Float32),\n",
    "    pl.col(cat_cols).cast(pl.Categorical),\n",
    "    elapsed=calc_elapsed.cast(pl.Int32),\n",
    "    time=pl.col('time').dt.convert_time_zone('America/Denver')\n",
    " )\n",
    " .with_columns(period=(pl.col('time')-pl.col('time').first()).over(pl.col('id')))\n",
    "\n",
    ")"
   ]
  },
  {
   "cell_type": "code",
   "execution_count": null,
   "metadata": {},
   "outputs": [],
   "source": [
    "pl.col('time').dt"
   ]
  },
  {
   "cell_type": "code",
   "execution_count": null,
   "metadata": {
    "scrolled": true
   },
   "outputs": [],
   "source": [
    "dir(pl.col('time').dt)"
   ]
  },
  {
   "cell_type": "markdown",
   "metadata": {},
   "source": [
    "### Exercise: Dates\n",
    "\n",
    "- Write an expression to make a *month* column derived from *time*\n",
    "- Write an expression to make a *year* column derived from *time*\n",
    "- Write an expression to make a *utc_time* column derived from *time* with time in UTC"
   ]
  },
  {
   "cell_type": "code",
   "execution_count": null,
   "metadata": {},
   "outputs": [],
   "source": []
  },
  {
   "cell_type": "markdown",
   "metadata": {},
   "source": [
    "## Missing Data"
   ]
  },
  {
   "cell_type": "code",
   "execution_count": null,
   "metadata": {},
   "outputs": [],
   "source": [
    "# where are values missing (null)?\n",
    "calc_id = (pl.col('filename')\n",
    "              .str.split('/')\n",
    "              .list.get(-1)\n",
    "              .str.replace('.gpx', '')\n",
    "              .cast(pl.Int64)\n",
    "             )\n",
    "calc_elapsed = (\n",
    "    (pl.col(\"time\") - pl.col(\"time\").min())\n",
    "    .dt.total_seconds()\n",
    "    .over(pl.col('id'))\n",
    ")\n",
    "\n",
    "float_cols = ['distance_2d', 'latitude', 'longitude', 'elevation', 'speed_between']\n",
    "cat_cols = ['name', 'type', 'filename']\n",
    "\n",
    "(raw\n",
    " .select(cols)\n",
    " .with_columns(id=calc_id)\n",
    " # needs to be in its own with_columns because we reference id\n",
    " .with_columns(\n",
    "    pl.col(float_cols).cast(pl.Float32),\n",
    "    pl.col(cat_cols).cast(pl.Categorical),\n",
    "    elapsed=calc_elapsed.cast(pl.Int32),\n",
    "    time=pl.col('time').dt.convert_time_zone('America/Denver')\n",
    " )\n",
    " .with_columns(period=(pl.col('time')-pl.col('time').first()).over(pl.col('id')))\n",
    " .null_count()\n",
    ")"
   ]
  },
  {
   "cell_type": "code",
   "execution_count": null,
   "metadata": {},
   "outputs": [],
   "source": [
    "# which rows are they?\n",
    "calc_id = (pl.col('filename')\n",
    "              .str.split('/')\n",
    "              .list.get(-1)\n",
    "              .str.replace('.gpx', '')\n",
    "              .cast(pl.Int64)\n",
    "             )\n",
    "calc_elapsed = (\n",
    "    (pl.col(\"time\") - pl.col(\"time\").min())\n",
    "    .dt.total_seconds()\n",
    "    .over(pl.col('id'))\n",
    ")\n",
    "\n",
    "float_cols = ['distance_2d', 'latitude', 'longitude', 'elevation', 'speed_between']\n",
    "cat_cols = ['name', 'type', 'filename']\n",
    "\n",
    "(raw\n",
    " .select(cols)\n",
    " .with_columns(id=calc_id)\n",
    " # needs to be in its own with_columns because we reference id\n",
    " .with_columns(\n",
    "    pl.col(float_cols).cast(pl.Float32),\n",
    "    pl.col(cat_cols).cast(pl.Categorical),\n",
    "    elapsed=calc_elapsed.cast(pl.Int32),\n",
    "    time=pl.col('time').dt.convert_time_zone('America/Denver')\n",
    " )\n",
    " .with_columns(period=(pl.col('time')-pl.col('time').first()).over(pl.col('id')))\n",
    " #.null_count()\n",
    " .filter(pl.col('speed_between').is_null())\n",
    ")"
   ]
  },
  {
   "cell_type": "code",
   "execution_count": null,
   "metadata": {},
   "outputs": [],
   "source": [
    "# what about nans?\n",
    "calc_id = (pl.col('filename')\n",
    "              .str.split('/')\n",
    "              .list.get(-1)\n",
    "              .str.replace('.gpx', '')\n",
    "              .cast(pl.Int64)\n",
    "             )\n",
    "calc_elapsed = (\n",
    "    (pl.col(\"time\") - pl.col(\"time\").min())\n",
    "    .dt.total_seconds()\n",
    "    .over(pl.col('id'))\n",
    ")\n",
    "\n",
    "float_cols = ['distance_2d', 'latitude', 'longitude', 'elevation', 'speed_between']\n",
    "cat_cols = ['name', 'type', 'filename']\n",
    "\n",
    "(raw\n",
    " .select(cols)\n",
    " # add elapsed time\n",
    " .with_columns(id=calc_id)\n",
    " # needs to be in its own with_columns because we reference id\n",
    " .with_columns(\n",
    "    pl.col(float_cols).cast(pl.Float32),\n",
    "    pl.col(cat_cols).cast(pl.Categorical),\n",
    "    elapsed=calc_elapsed.cast(pl.Int32),\n",
    "    time=pl.col('time').dt.convert_time_zone('America/Denver')\n",
    " )\n",
    " #.null_count()\n",
    " # no nan_count\n",
    " #.filter(pl.col('speed_between').is_null())\n",
    " .with_columns(period=(pl.col('time')-pl.col('time').first()).over(pl.col('id')))\n",
    " .select(cs.numeric().is_nan().sum())\n",
    ")"
   ]
  },
  {
   "cell_type": "markdown",
   "metadata": {},
   "source": [
    "# if then\n",
    "\n",
    "\n",
    "The Python code:\n",
    "```\n",
    "if COND_EXPR:\n",
    "    EXPR\n",
    "elif COND_EXPR2:\n",
    "    EXPR2\n",
    "...\n",
    "else:\n",
    "    EXPRN\n",
    "```\n",
    "\n",
    "Is written in Polars as:\n",
    "```\n",
    "(pl.when(COND_EXPR)\n",
    "   .then(EXPR)\n",
    ".when(COND_EXPR2)\n",
    "   .then(EXPR2)\n",
    "... # more when's\n",
    ".otherwise(EXPRN) # optional\n",
    "```\n",
    "\n"
   ]
  },
  {
   "cell_type": "code",
   "execution_count": null,
   "metadata": {
    "scrolled": true
   },
   "outputs": [],
   "source": [
    "# set speed_between to 0 when distance_2d is 0\n",
    "\n",
    "(raw\n",
    " .select(cols)\n",
    " .with_columns(id=calc_id)\n",
    " # needs to be in its own with_columns because we reference id\n",
    " .with_columns(\n",
    "    pl.col(float_cols).cast(pl.Float32),\n",
    "    pl.col(cat_cols).cast(pl.Categorical),\n",
    "    elapsed=calc_elapsed.cast(pl.Int32),\n",
    "    time=pl.col('time').dt.convert_time_zone('America/Denver')\n",
    " )\n",
    " #.null_count()\n",
    " # no nan_count\n",
    " #.filter(pl.col('speed_between').is_null())\n",
    " .with_columns(period=(pl.col('time')-pl.col('time').first()).over(pl.col('id')))\n",
    " .with_columns(\n",
    "     speed_between=pl.when(pl.col('speed_between').is_null())\n",
    "         .then(0)\n",
    " )\n",
    ")\n"
   ]
  },
  {
   "cell_type": "code",
   "execution_count": null,
   "metadata": {},
   "outputs": [],
   "source": []
  },
  {
   "cell_type": "code",
   "execution_count": null,
   "metadata": {},
   "outputs": [],
   "source": []
  },
  {
   "cell_type": "markdown",
   "metadata": {},
   "source": [
    "## Create a function"
   ]
  },
  {
   "cell_type": "code",
   "execution_count": null,
   "metadata": {},
   "outputs": [],
   "source": [
    "# note, I'm adding the final columns in the tweak_strava function\n",
    "\n",
    "import polars as pl\n",
    "import polars.selectors as cs   \n",
    "\n",
    "calc_id = (pl.col('filename')\n",
    "              .str.split('/')\n",
    "              .list.get(-1)\n",
    "              .str.replace('.gpx', '')\n",
    "              .cast(pl.Int64)\n",
    "             )\n",
    "calc_elapsed = (\n",
    "    (pl.col(\"time\") - pl.col(\"time\").min())\n",
    "    .dt.total_seconds()\n",
    "    .over(pl.col('id'))\n",
    ")\n",
    "\n",
    "float_cols = ['distance_2d', 'latitude', 'longitude', 'elevation', 'speed_between']\n",
    "cat_cols = ['name', 'type', 'filename']\n",
    "cols = ['course', 'distance_2d', 'latitude', 'longitude', 'time', 'elevation',\n",
    "            'speed_between', 'name', 'type', 'filename']\n",
    "# drop course because it is all null\n",
    "final_cols = ['distance_2d', 'latitude', 'longitude', 'time', 'elevation', 'speed_between',\n",
    "    'name', 'type', 'filename', 'id', 'elapsed', 'period']\n",
    "\n",
    "def tweak_strava(df):\n",
    "    return (df\n",
    "        .select(cols) # checking input\n",
    "        .with_columns(id=calc_id)\n",
    "        .with_columns(\n",
    "            pl.col(float_cols).cast(pl.Float32),\n",
    "            pl.col(cat_cols).cast(pl.Categorical),\n",
    "            elapsed=calc_elapsed.cast(pl.Int32),\n",
    "            time=pl.col('time').dt.convert_time_zone('America/Denver')\n",
    "        )\n",
    "        .with_columns(period=(pl.col('time')-pl.col('time').first()).over(pl.col('id')))\n",
    "        .select(final_cols) # checking output\n",
    "    )\n",
    "\n",
    "raw = pl.read_parquet('data/bikeski.parquet')\n",
    "tweak_strava(raw).columns"
   ]
  },
  {
   "cell_type": "markdown",
   "metadata": {},
   "source": [
    "# Exercise: Top of Notebook\n",
    "\n",
    "- Move the function cell to the top of the notebook.\n",
    "- Restart notebook\n",
    "- Run first cell and ensure that it runs"
   ]
  },
  {
   "cell_type": "code",
   "execution_count": null,
   "metadata": {},
   "outputs": [],
   "source": []
  },
  {
   "cell_type": "markdown",
   "metadata": {},
   "source": [
    "## Laziness & Chaining"
   ]
  },
  {
   "cell_type": "code",
   "execution_count": null,
   "metadata": {},
   "outputs": [],
   "source": [
    "raw_lazy = pl.scan_parquet('data/bikeski.parquet')\n",
    "tweak_strava(raw_lazy)"
   ]
  },
  {
   "cell_type": "code",
   "execution_count": null,
   "metadata": {},
   "outputs": [],
   "source": [
    "tweak_strava(raw_lazy).collect()"
   ]
  },
  {
   "cell_type": "code",
   "execution_count": null,
   "metadata": {},
   "outputs": [],
   "source": []
  },
  {
   "cell_type": "code",
   "execution_count": null,
   "metadata": {},
   "outputs": [],
   "source": []
  },
  {
   "cell_type": "markdown",
   "metadata": {},
   "source": [
    "## Stay in the Sandbox"
   ]
  },
  {
   "cell_type": "code",
   "execution_count": null,
   "metadata": {
    "scrolled": true
   },
   "outputs": [],
   "source": [
    "# convert elevation from meters to feet\n",
    "def meters_to_feet(m):\n",
    "    return m * 3.28084\n",
    "\n",
    "(tweak_strava(raw)\n",
    "    .with_columns(elevation_ft=pl.col('elevation').map_elements(meters_to_feet))\n",
    "    )"
   ]
  },
  {
   "cell_type": "code",
   "execution_count": null,
   "metadata": {},
   "outputs": [],
   "source": [
    "# convert elevation from meters to feet\n",
    "def meters_to_feet(m):\n",
    "    return m * 3.28084\n",
    "\n",
    "(tweak_strava(raw)\n",
    "    .with_columns(elevation_ft=meters_to_feet(pl.col('elevation')))\n",
    "    )"
   ]
  },
  {
   "cell_type": "code",
   "execution_count": null,
   "metadata": {},
   "outputs": [],
   "source": [
    "# disable warnings\n",
    "import warnings\n",
    "warnings.filterwarnings(\"ignore\")"
   ]
  },
  {
   "cell_type": "code",
   "execution_count": null,
   "metadata": {},
   "outputs": [],
   "source": [
    "tweaked = (tweak_strava(raw))"
   ]
  },
  {
   "cell_type": "code",
   "execution_count": null,
   "metadata": {},
   "outputs": [],
   "source": [
    "%%timeit\n",
    "(tweaked\n",
    "    .with_columns(elevation_ft=pl.col('elevation').map_elements(meters_to_feet))\n",
    "    )"
   ]
  },
  {
   "cell_type": "code",
   "execution_count": null,
   "metadata": {},
   "outputs": [],
   "source": [
    "# turn warnings back on\n",
    "warnings.filterwarnings(\"default\")"
   ]
  },
  {
   "cell_type": "code",
   "execution_count": null,
   "metadata": {},
   "outputs": [],
   "source": [
    "%%timeit\n",
    "(tweaked\n",
    "    .with_columns(elevation_ft=meters_to_feet(pl.col('elevation')))\n",
    "    )"
   ]
  },
  {
   "cell_type": "code",
   "execution_count": null,
   "metadata": {},
   "outputs": [],
   "source": [
    "237/8.98"
   ]
  },
  {
   "cell_type": "code",
   "execution_count": null,
   "metadata": {},
   "outputs": [],
   "source": []
  },
  {
   "cell_type": "markdown",
   "metadata": {},
   "source": [
    "### Exercise: Meters to Miles\n",
    "\n",
    "- Make a *distance_miles* column that converts the meters in *distance_2d* to miles"
   ]
  },
  {
   "cell_type": "code",
   "execution_count": null,
   "metadata": {},
   "outputs": [],
   "source": []
  },
  {
   "cell_type": "markdown",
   "metadata": {},
   "source": [
    "## Basics of Plotting\n",
    "\n",
    "Plotly has basic integration with Altair, but I prefer to use Matplotlib\n",
    "for static plots.\n",
    "\n",
    "See my book *Effective Visualization* for more details.\n",
    "\n",
    "- Histogram\n",
    "- Line\n",
    "- Bar\n",
    "- Scatter"
   ]
  },
  {
   "cell_type": "code",
   "execution_count": null,
   "metadata": {},
   "outputs": [],
   "source": [
    "#distance per activity\n",
    "\n",
    "def meters_to_feet(m):\n",
    "    return m * 3.28084\n",
    "\n",
    "def feet_to_miles(f):\n",
    "    return f / 5280\n",
    "\n",
    "def meters_to_miles(m):\n",
    "    return feet_to_miles(meters_to_feet(m))\n",
    "\n",
    "(tweak_strava(raw)\n",
    "    .group_by('name')\n",
    "    .agg(pl.sum('distance_2d').alias('distance_2d'))\n",
    "    .with_columns(distance_miles=meters_to_miles(pl.col('distance_2d')))\n",
    "    .select(['name', 'distance_2d', 'distance_miles'])\n",
    ")"
   ]
  },
  {
   "cell_type": "code",
   "execution_count": null,
   "metadata": {},
   "outputs": [],
   "source": [
    "import matplotlib.pyplot as plt\n",
    "\n",
    "fig, ax = plt.subplots(figsize=(8, 3))\n",
    "distances = (tweak_strava(raw)\n",
    "    .group_by('name')\n",
    "    .agg(pl.sum('distance_2d').alias('distance_2d'))\n",
    "    .with_columns(distance_miles=meters_to_miles(pl.col('distance_2d')))\n",
    "    .select(['name', 'distance_2d', 'distance_miles'])\n",
    "\n",
    "    .sort('distance_miles')\n",
    "    .tail(10)\n",
    ")\n",
    "\n",
    "ax.barh(distances['name'], distances['distance_miles'])"
   ]
  },
  {
   "cell_type": "code",
   "execution_count": null,
   "metadata": {},
   "outputs": [],
   "source": []
  },
  {
   "cell_type": "code",
   "execution_count": null,
   "metadata": {},
   "outputs": [],
   "source": []
  },
  {
   "cell_type": "markdown",
   "metadata": {},
   "source": [
    "## Master Aggregation"
   ]
  },
  {
   "cell_type": "code",
   "execution_count": null,
   "metadata": {},
   "outputs": [],
   "source": [
    "# distance per activity\n",
    "\n",
    "(tweak_strava(raw_lazy)\n",
    "    .group_by('id')\n",
    "    .agg(\n",
    "        activity=pl.col('name').first(),\n",
    "        distance=pl.col('distance_2d').sum(),\n",
    "        elevation=pl.col('elevation').sum(),\n",
    "        elapsed=pl.col('elapsed').last(),\n",
    "        period=pl.col('period').last(),\n",
    "    )\n",
    "    .with_columns(speed=pl.col('distance') / pl.col('elapsed'))\n",
    "    .sort('distance')\n",
    "    .collect()\n",
    "    )"
   ]
  },
  {
   "cell_type": "code",
   "execution_count": null,
   "metadata": {},
   "outputs": [],
   "source": [
    "# filter > 23 hours\n",
    "\n",
    "print(tweak_strava(raw_lazy)\n",
    "    .group_by('id')\n",
    "    .agg(\n",
    "        activity=pl.col('name').first(),\n",
    "        distance=pl.col('distance_2d').sum(),\n",
    "        elevation=pl.col('elevation').sum(),\n",
    "        elapsed=pl.col('elapsed').last(),\n",
    "        period=pl.col('period').last(),\n",
    "    )\n",
    "    .with_columns(speed=pl.col('distance') / pl.col('elapsed'))\n",
    "    .sort('elapsed')\n",
    "    .filter(pl.col('elapsed') < 23 * 60 * 60)\n",
    "    .collect()\n",
    "    )"
   ]
  },
  {
   "cell_type": "code",
   "execution_count": null,
   "metadata": {},
   "outputs": [],
   "source": [
    "# plot\n",
    "(tweak_strava(raw_lazy)\n",
    "    .group_by('id')\n",
    "    .agg(\n",
    "        activity=pl.col('name').first(),\n",
    "        distance=pl.col('distance_2d').sum(),\n",
    "        elevation=pl.col('elevation').sum(),\n",
    "        elapsed=pl.col('elapsed').last(),\n",
    "        period=pl.col('period').last(),\n",
    "    )\n",
    "    .with_columns(speed=pl.col('distance') / pl.col('elapsed'))\n",
    "    .filter(pl.col('elapsed') < 23 * 60 * 60)\n",
    "    .sort('distance')\n",
    "    .tail(20)\n",
    "    .collect()\n",
    "    .select([pl.col('activity').cast(pl.Utf8), 'distance', ])\n",
    "    .sort('distance')\n",
    "    .plot.bar(y='activity', x='distance')\n",
    "    )"
   ]
  },
  {
   "cell_type": "code",
   "execution_count": null,
   "metadata": {},
   "outputs": [],
   "source": [
    "import matplotlib.pyplot as plt\n",
    "import hvplot.polars\n",
    "import hvplot\n",
    "hvplot.extension('matplotlib')\n",
    "fig, ax = plt.subplots(figsize=(6,4), dpi=300)\n",
    "# plot\n",
    "(tweak_strava(raw_lazy)\n",
    "    .group_by('id')\n",
    "    .agg(\n",
    "        activity=pl.col('name').first(),\n",
    "        distance=pl.col('distance_2d').sum(),\n",
    "        elevation=pl.col('elevation').sum(),\n",
    "        elapsed=pl.col('elapsed').last(),\n",
    "        period=pl.col('period').last(),\n",
    "    )\n",
    "    .with_columns(speed=pl.col('distance') / pl.col('elapsed'))\n",
    "    .filter(pl.col('elapsed') < 23 * 60 * 60)\n",
    "    .sort('distance')\n",
    "    \n",
    "    .tail(20)\n",
    "    .collect()\n",
    "    .select([pl.col('activity').cast(pl.Utf8), 'distance', ])\n",
    "    .hvplot.barh(x='activity', y='distance')\n",
    "    )\n"
   ]
  },
  {
   "cell_type": "code",
   "execution_count": null,
   "metadata": {},
   "outputs": [],
   "source": [
    "# common aggregation - value counts\n",
    "with pl.Config(set_tbl_rows=20):\n",
    "    display(tweak_strava(raw_lazy)\n",
    "    .select(pl.col('type').value_counts())\n",
    "    .collect()\n",
    "    )"
   ]
  },
  {
   "cell_type": "code",
   "execution_count": null,
   "metadata": {},
   "outputs": [],
   "source": [
    "# use unnest to get the values out of the struct\n",
    "with pl.Config(set_tbl_rows=20):\n",
    "    display(tweak_strava(raw_lazy)\n",
    "    .select(pl.col('type').value_counts())\n",
    "    .collect()\n",
    "    .unnest('type')\n",
    "    )"
   ]
  },
  {
   "cell_type": "code",
   "execution_count": null,
   "metadata": {},
   "outputs": [],
   "source": [
    "# how far have I biked each year?\n",
    "(tweak_strava(raw_lazy)\n",
    "  .filter(pl.col('type').is_in(['ebikeride', 'cycling']))\n",
    "  .group_by([pl.col('time').dt.year().alias('year'), 'type'])\n",
    "  .agg(\n",
    "      distance=pl.col('distance_2d').sum(),\n",
    "  )\n",
    "  .collect()\n",
    ")\n"
   ]
  },
  {
   "cell_type": "code",
   "execution_count": null,
   "metadata": {},
   "outputs": [],
   "source": [
    "# pivot type\n",
    "(tweak_strava(raw_lazy)\n",
    "  .filter(pl.col('type').is_in(['ebikeride', 'cycling']))\n",
    "    .group_by([pl.col('time').dt.year().alias('year'), 'type'])\n",
    "    .agg(\n",
    "        distance=pl.col('distance_2d').sum(),\n",
    "    )\n",
    "    .pivot(index='year', on='type')\n",
    "    .collect()\n",
    ")\n"
   ]
  },
  {
   "cell_type": "code",
   "execution_count": null,
   "metadata": {},
   "outputs": [],
   "source": [
    "# pivot type\n",
    "(tweak_strava(raw_lazy)\n",
    "  .filter(pl.col('type').is_in(['ebikeride', 'cycling']))\n",
    "    .group_by([pl.col('time').dt.year().alias('year'), 'type'])\n",
    "    .agg(\n",
    "        distance=pl.col('distance_2d').sum(),\n",
    "    )\n",
    "    .collect()\n",
    "    .pivot(index='year', on='type')\n",
    "    )\n"
   ]
  },
  {
   "cell_type": "code",
   "execution_count": null,
   "metadata": {},
   "outputs": [],
   "source": [
    "# sort year (remember that Polars is multi-threaded)\n",
    "(tweak_strava(raw_lazy)\n",
    "  .filter(pl.col('type').is_in(['ebikeride', 'cycling']))\n",
    "    .group_by([pl.col('time').dt.year().alias('year'), 'type'])\n",
    "    .agg(\n",
    "        distance=pl.col('distance_2d').sum(),\n",
    "    )\n",
    "    .collect()\n",
    "    .pivot(index='year', on='type')\n",
    "    .sort('year')\n",
    "    )\n"
   ]
  },
  {
   "cell_type": "code",
   "execution_count": null,
   "metadata": {},
   "outputs": [],
   "source": [
    "# plot\n",
    "(tweak_strava(raw_lazy)\n",
    "  .filter(pl.col('type').is_in(['ebikeride', 'cycling']))\n",
    "    .group_by([pl.col('time').dt.year().alias('year'), 'type'])\n",
    "    .agg(\n",
    "        distance=pl.col('distance_2d').sum(),\n",
    "    )\n",
    "    .collect()\n",
    "    .pivot(index='year', on='type')\n",
    "    .sort('year')\n",
    "    .hvplot.line(x='year', y=['cycling', 'ebikeride'])\n",
    "    )\n"
   ]
  },
  {
   "cell_type": "code",
   "execution_count": null,
   "metadata": {
    "scrolled": true
   },
   "outputs": [],
   "source": [
    "# Do weekly instead of yearly with .group_by_dynamic\n",
    "# then add a rolling mean\n",
    "(tweak_strava(raw_lazy)\n",
    "  .filter(pl.col('type').is_in(['ebikeride', 'cycling']))\n",
    "  .sort('time')\n",
    "    #.group_by([pl.col('time').dt.year().alias('year'), 'type'])\n",
    "    .group_by_dynamic(index_column='time', every='1w', by='type')\n",
    "    .agg(\n",
    "        distance=pl.col('distance_2d').sum(),\n",
    "    )\n",
    "    .collect()\n",
    "    .pivot(index='time', on='type')\n",
    "    # rolling mean\n",
    "    .with_columns(\n",
    "        cycling=pl.col('cycling')\n",
    "        .fill_null(0)\n",
    "        .rolling_mean(window_size=4),\n",
    "        ebikeride=pl.col('ebikeride')\n",
    "        .fill_null(0)\n",
    "        .rolling_mean(window_size=4),\n",
    "    )\n",
    "    .sort('time')\n",
    "    .hvplot.line(x='time', y=['cycling', 'ebikeride'])\n",
    "    )\n"
   ]
  },
  {
   "cell_type": "markdown",
   "metadata": {},
   "source": [
    "# Exercise: Aggregation\n",
    "\n",
    "- Create a column *elevation_gained* that calculates the growth of elevation over an activity. (hint: use `.over`)\n",
    "- What is the average *elevation_gained* for each *year*?\n",
    "- What is the monthly distance for each *year*?\n",
    "- What is the monthly distance for each *year* and activity type?"
   ]
  },
  {
   "cell_type": "code",
   "execution_count": null,
   "metadata": {},
   "outputs": [],
   "source": []
  },
  {
   "cell_type": "markdown",
   "metadata": {},
   "source": [
    "## Conclusion\n",
    "\n",
    "* Correct types save space and enable convenient math, string, and date functionality\n",
    "* Chaining operations will:\n",
    "   * Make code readable\n",
    "   * Remove bugs\n",
    "   * Easier to debug\n",
    "* ``.map_elements`` is slow for math\n",
    "* Aggregations are powerful. Play with them until they make sense\n",
    "\n",
    "\n",
    "Let's connect! Reach out (email, LinkedIn) if your team needs help with the Python data stack."
   ]
  },
  {
   "cell_type": "code",
   "execution_count": null,
   "metadata": {},
   "outputs": [],
   "source": []
  },
  {
   "cell_type": "code",
   "execution_count": null,
   "metadata": {},
   "outputs": [],
   "source": []
  },
  {
   "cell_type": "markdown",
   "metadata": {},
   "source": [
    "## Pandas Comparison"
   ]
  },
  {
   "cell_type": "code",
   "execution_count": null,
   "metadata": {},
   "outputs": [],
   "source": [
    "import pandas as pd\n",
    "\n",
    "# Define column lists\n",
    "\n",
    "def tweak_strava_pd(df: pd.DataFrame) -> pd.DataFrame:\n",
    "    float_cols = ['distance_2d', 'latitude', 'longitude', 'elevation', 'speed_between']\n",
    "    cat_cols   = ['name', 'type', 'filename']\n",
    "    cols       = ['course', 'distance_2d', 'latitude', 'longitude', 'time', 'elevation',\n",
    "                'speed_between', 'name', 'type', 'filename']\n",
    "    final_cols = ['distance_2d', 'latitude', 'longitude', 'time', 'elevation', 'speed_between',\n",
    "                'name', 'type', 'filename', 'id', 'elapsed', 'period']\n",
    "\n",
    "    return (\n",
    "        df\n",
    "        .loc[:, cols]\n",
    "        .assign(\n",
    "            # Create 'id' from the filename by splitting, taking the last piece,\n",
    "            # removing '.gpx', and converting to int64.\n",
    "            id=lambda d: d['filename']\n",
    "                .str.split('/')\n",
    "                .str[-1]\n",
    "                .str.replace('.gpx', '', regex=False)\n",
    "                .astype('int64')\n",
    "        )\n",
    "        .assign(\n",
    "            # Cast float_cols to float32.\n",
    "            **{col: (lambda d, col=col: d[col].astype('float32')) for col in float_cols}\n",
    "        )\n",
    "        .assign(\n",
    "            # Cast cat_cols to categorical dtype.\n",
    "            **{col: (lambda d, col=col: d[col].astype('category')) for col in cat_cols}\n",
    "        )\n",
    "        .assign(\n",
    "            # Convert the 'time' column to the 'America/Denver' timezone.\n",
    "            time=lambda d: d['time'].dt.tz_convert('America/Denver')\n",
    "        )\n",
    "        .assign(\n",
    "            # Compute 'elapsed': difference in seconds from the minimum time per 'id'.\n",
    "            elapsed=lambda d: d.groupby('id')['time']\n",
    "                               .transform(lambda x: (x - x.min()).dt.total_seconds())\n",
    "                               .astype('int32')\n",
    "        )\n",
    "        .assign(\n",
    "            # Compute 'period': time difference from the first time in each 'id' group.\n",
    "            period=lambda d: d.groupby('id')['time']\n",
    "                              .transform(lambda x: x - x.iloc[0])\n",
    "        )\n",
    "        [final_cols]\n",
    "    )\n",
    "\n",
    "# Example usage:\n",
    "raw_pd = pd.read_parquet('data/bikeski.parquet')\n",
    "tweak_strava_pd(raw_pd)\n",
    "\n"
   ]
  },
  {
   "cell_type": "code",
   "execution_count": null,
   "metadata": {},
   "outputs": [],
   "source": [
    "%%time\n",
    "limit = 23 * 60 * 60  # 23 hours in seconds\n",
    "\n",
    "(tweak_strava_pd(raw_pd)\n",
    "    .groupby('id')\n",
    "    .agg(\n",
    "        activity=('name', 'first'),\n",
    "        distance=('distance_2d', 'sum'),\n",
    "        elevation=('elevation', 'sum'),\n",
    "        elapsed=('elapsed', 'last'),\n",
    "        period=('period', 'last')\n",
    "    )\n",
    "    .assign(speed=lambda df: df['distance'] / df['elapsed'])\n",
    "    .sort_values('elapsed')\n",
    "    .query(\"elapsed < @limit\")\n",
    ")"
   ]
  }
 ],
 "metadata": {
  "kernelspec": {
   "display_name": "pycon2025",
   "language": "python",
   "name": "python3"
  },
  "language_info": {
   "codemirror_mode": {
    "name": "ipython",
    "version": 3
   },
   "file_extension": ".py",
   "mimetype": "text/x-python",
   "name": "python",
   "nbconvert_exporter": "python",
   "pygments_lexer": "ipython3",
   "version": "3.12.5"
  }
 },
 "nbformat": 4,
 "nbformat_minor": 4
}
